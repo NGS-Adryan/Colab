{
  "nbformat": 4,
  "nbformat_minor": 0,
  "metadata": {
    "colab": {
      "provenance": [],
      "authorship_tag": "ABX9TyMQGicr0ODiaNC9mU6ol69m",
      "include_colab_link": true
    },
    "kernelspec": {
      "name": "python3",
      "display_name": "Python 3"
    },
    "language_info": {
      "name": "python"
    }
  },
  "cells": [
    {
      "cell_type": "markdown",
      "metadata": {
        "id": "view-in-github",
        "colab_type": "text"
      },
      "source": [
        "<a href=\"https://colab.research.google.com/github/NGS-Adryan/pegar_preco_de_boas_empresas/blob/main/Pegando_Pre%C3%A7o_BBAS3.ipynb\" target=\"_parent\"><img src=\"https://colab.research.google.com/assets/colab-badge.svg\" alt=\"Open In Colab\"/></a>"
      ]
    },
    {
      "cell_type": "code",
      "source": [
        "!pip install beautifulsoup4\n",
        "!pip install requests"
      ],
      "metadata": {
        "id": "4tEN8ZbGKokX"
      },
      "execution_count": null,
      "outputs": []
    },
    {
      "cell_type": "code",
      "execution_count": null,
      "metadata": {
        "id": "azTXMaXQHXAy"
      },
      "outputs": [],
      "source": [
        "# -*- coding: utf-8 -*-\n",
        "\n",
        "import requests\n",
        "from bs4 import BeautifulSoup\n",
        "from time import sleep"
      ]
    },
    {
      "cell_type": "code",
      "source": [
        "def get_price(tiker: str):\n",
        "  tiker = tiker.upper()\n",
        "  URL = f'https://www.google.com/finance/quote/{tiker}:BVMF?hl=pt'\n",
        "  SELECTORS = {\n",
        "    'CSS_SELECTOR_NAME': 'div.zzDege',\n",
        "    'CSS_SELECTOR_PRICE': 'div.YMlKec.fxKbKc'\n",
        "  }\n",
        "  response = requests.get(URL)\n",
        "  soup = BeautifulSoup(response.text, 'html.parser')\n",
        "  name, price = (soup.select_one(SELECTORS['CSS_SELECTOR_NAME']).text,\n",
        "                 soup.select_one(SELECTORS['CSS_SELECTOR_PRICE']).text)\n",
        "  return {tiker: [name, str(price).replace('\\xa0', ' ')]}\n",
        "\n"
      ],
      "metadata": {
        "id": "_S-bKB-MKuDj"
      },
      "execution_count": null,
      "outputs": []
    },
    {
      "cell_type": "code",
      "source": [
        "# get_price('taee11')\n",
        "tikers = ['bbas3', 'taee11']\n",
        "while input('Pegar cotações? ') == 'sim':\n",
        "  for tiker in tikers:\n",
        "    element = get_price(tiker)\n",
        "    print(element)\n",
        "  # sleep(5)\n",
        "\n"
      ],
      "metadata": {
        "colab": {
          "base_uri": "https://localhost:8080/"
        },
        "id": "ROUcs7i4Ku7r",
        "outputId": "40ea135c-8d95-4f94-aff9-1d66aaa9cf07"
      },
      "execution_count": null,
      "outputs": [
        {
          "name": "stdout",
          "output_type": "stream",
          "text": [
            "Pegar cotações? sim\n",
            "{'BBAS3': ['Banco do Brasil', 'R$ 53,87']}\n",
            "{'TAEE11': ['Taesa S.A.', 'R$ 35,97']}\n",
            "Pegar cotações? não\n"
          ]
        }
      ]
    },
    {
      "cell_type": "code",
      "source": [],
      "metadata": {
        "id": "bMJiZNQiKuzy"
      },
      "execution_count": null,
      "outputs": []
    },
    {
      "cell_type": "code",
      "source": [],
      "metadata": {
        "id": "-OgXVzDAKun3"
      },
      "execution_count": null,
      "outputs": []
    }
  ]
}